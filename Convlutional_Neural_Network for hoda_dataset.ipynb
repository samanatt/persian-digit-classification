{
  "nbformat": 4,
  "nbformat_minor": 0,
  "metadata": {
    "colab": {
      "provenance": [],
      "authorship_tag": "ABX9TyPMQbUSL3tdi4dUCQ1BAP6h",
      "include_colab_link": true
    },
    "kernelspec": {
      "name": "python3",
      "display_name": "Python 3"
    },
    "language_info": {
      "name": "python"
    }
  },
  "cells": [
    {
      "cell_type": "markdown",
      "metadata": {
        "id": "view-in-github",
        "colab_type": "text"
      },
      "source": [
        "<a href=\"https://colab.research.google.com/github/samanatt/persian-digit-classification-with-knn/blob/main/My_First_Convlutional_Neural_Network.ipynb\" target=\"_parent\"><img src=\"https://colab.research.google.com/assets/colab-badge.svg\" alt=\"Open In Colab\"/></a>"
      ]
    },
    {
      "cell_type": "code",
      "execution_count": 1,
      "metadata": {
        "id": "lgILePRDsWR4",
        "colab": {
          "base_uri": "https://localhost:8080/"
        },
        "outputId": "f5950b32-4991-46c2-911d-9d4e7a7e83f0"
      },
      "outputs": [
        {
          "output_type": "stream",
          "name": "stdout",
          "text": [
            "--2023-11-13 11:57:39--  https://raw.githubusercontent.com/Alireza-Akhavan/SRU-deeplearning-workshop/master/dataset.py\n",
            "Resolving raw.githubusercontent.com (raw.githubusercontent.com)... 185.199.111.133, 185.199.109.133, 185.199.110.133, ...\n",
            "Connecting to raw.githubusercontent.com (raw.githubusercontent.com)|185.199.111.133|:443... connected.\n",
            "HTTP request sent, awaiting response... 200 OK\n",
            "Length: 917 [text/plain]\n",
            "Saving to: ‘dataset.py.1’\n",
            "\n",
            "\rdataset.py.1          0%[                    ]       0  --.-KB/s               \rdataset.py.1        100%[===================>]     917  --.-KB/s    in 0s      \n",
            "\n",
            "2023-11-13 11:57:39 (72.4 MB/s) - ‘dataset.py.1’ saved [917/917]\n",
            "\n",
            "mkdir: cannot create directory ‘dataset’: File exists\n",
            "--2023-11-13 11:57:40--  https://github.com/Alireza-Akhavan/SRU-deeplearning-workshop/raw/master/dataset/Data_hoda_full.mat\n",
            "Resolving github.com (github.com)... 140.82.113.3\n",
            "Connecting to github.com (github.com)|140.82.113.3|:443... connected.\n",
            "HTTP request sent, awaiting response... 301 Moved Permanently\n",
            "Location: https://github.com/Alireza-Akhavan/deeplearning-tensorflow2-notebooks/raw/master/dataset/Data_hoda_full.mat [following]\n",
            "--2023-11-13 11:57:40--  https://github.com/Alireza-Akhavan/deeplearning-tensorflow2-notebooks/raw/master/dataset/Data_hoda_full.mat\n",
            "Reusing existing connection to github.com:443.\n",
            "HTTP request sent, awaiting response... 302 Found\n",
            "Location: https://raw.githubusercontent.com/Alireza-Akhavan/deeplearning-tensorflow2-notebooks/master/dataset/Data_hoda_full.mat [following]\n",
            "--2023-11-13 11:57:40--  https://raw.githubusercontent.com/Alireza-Akhavan/deeplearning-tensorflow2-notebooks/master/dataset/Data_hoda_full.mat\n",
            "Resolving raw.githubusercontent.com (raw.githubusercontent.com)... 185.199.111.133, 185.199.109.133, 185.199.110.133, ...\n",
            "Connecting to raw.githubusercontent.com (raw.githubusercontent.com)|185.199.111.133|:443... connected.\n",
            "HTTP request sent, awaiting response... 200 OK\n",
            "Length: 3989009 (3.8M) [application/octet-stream]\n",
            "Saving to: ‘dataset/Data_hoda_full.mat.1’\n",
            "\n",
            "Data_hoda_full.mat. 100%[===================>]   3.80M  --.-KB/s    in 0.09s   \n",
            "\n",
            "2023-11-13 11:57:41 (41.3 MB/s) - ‘dataset/Data_hoda_full.mat.1’ saved [3989009/3989009]\n",
            "\n"
          ]
        }
      ],
      "source": [
        "!wget https://raw.githubusercontent.com/Alireza-Akhavan/SRU-deeplearning-workshop/master/dataset.py\n",
        "!mkdir dataset\n",
        "!wget https://github.com/Alireza-Akhavan/SRU-deeplearning-workshop/raw/master/dataset/Data_hoda_full.mat -P dataset"
      ]
    },
    {
      "cell_type": "code",
      "source": [
        "import tensorflow as tf\n",
        "from tensorflow import keras\n",
        "from keras.models import Sequential\n",
        "from keras import layers\n",
        "from keras import losses\n",
        "from keras.layers import Conv2D,MaxPooling2D,Dense,Dropout\n",
        "from dataset import load_hoda\n",
        "\n",
        "from sklearn.model_selection import train_test_split\n",
        "from sklearn.preprocessing import StandardScaler\n",
        "\n",
        "import numpy as np\n",
        "import matplotlib.pyplot as plt\n",
        "import pandas as pd\n",
        "\n",
        "print(\"TensorFlow version:\", tf.__version__)"
      ],
      "metadata": {
        "colab": {
          "base_uri": "https://localhost:8080/"
        },
        "id": "LCqBMpzs92mM",
        "outputId": "f89b9d4f-f2d2-43e7-a057-6df4f718ef58"
      },
      "execution_count": 2,
      "outputs": [
        {
          "output_type": "stream",
          "name": "stdout",
          "text": [
            "TensorFlow version: 2.14.0\n"
          ]
        }
      ]
    },
    {
      "cell_type": "code",
      "source": [
        "X_train, y_train, X_test, y_test = load_hoda(training_sample_size=3500,\n",
        "                                            test_sample_size=400,size=28)"
      ],
      "metadata": {
        "id": "wjeXznHt-u9R"
      },
      "execution_count": 3,
      "outputs": []
    },
    {
      "cell_type": "code",
      "source": [
        "X_train = X_train.astype('float32')\n",
        "X_test = X_test.astype('float32')\n",
        "X_train /= 255.0\n",
        "X_test /= 255.0"
      ],
      "metadata": {
        "id": "a1RYudfD_Cpu"
      },
      "execution_count": 4,
      "outputs": []
    },
    {
      "cell_type": "code",
      "source": [
        "#y_train = keras.utils.to_categorical(y_train)\n",
        "#y_test =  keras.utils.to_categorical(y_test)"
      ],
      "metadata": {
        "id": "F0d_LpGr_ZQB"
      },
      "execution_count": null,
      "outputs": []
    },
    {
      "cell_type": "code",
      "source": [
        "X_train.shape"
      ],
      "metadata": {
        "colab": {
          "base_uri": "https://localhost:8080/"
        },
        "id": "UHoiRCfoADgl",
        "outputId": "f4b3b3b5-18e4-4b1e-bf6e-ca8a8d5bfb2a"
      },
      "execution_count": 5,
      "outputs": [
        {
          "output_type": "execute_result",
          "data": {
            "text/plain": [
              "(3500, 784)"
            ]
          },
          "metadata": {},
          "execution_count": 5
        }
      ]
    },
    {
      "cell_type": "code",
      "source": [
        "X_train = X_train.reshape(-1,28,28,1)\n",
        "X_test = X_test.reshape(-1,28,28,1)"
      ],
      "metadata": {
        "id": "xjKujzMiARw-"
      },
      "execution_count": 6,
      "outputs": []
    },
    {
      "cell_type": "code",
      "source": [
        "X_train.shape"
      ],
      "metadata": {
        "colab": {
          "base_uri": "https://localhost:8080/"
        },
        "id": "rraa0BKnArHP",
        "outputId": "c4ee7049-8229-4e3f-eeca-990be7528915"
      },
      "execution_count": 7,
      "outputs": [
        {
          "output_type": "execute_result",
          "data": {
            "text/plain": [
              "(3500, 28, 28, 1)"
            ]
          },
          "metadata": {},
          "execution_count": 7
        }
      ]
    },
    {
      "cell_type": "code",
      "source": [
        "y_train.shape[-1]"
      ],
      "metadata": {
        "colab": {
          "base_uri": "https://localhost:8080/"
        },
        "id": "EAvJclASV_Sf",
        "outputId": "1a806286-7904-435f-ebe4-5f289788b8bf"
      },
      "execution_count": 8,
      "outputs": [
        {
          "output_type": "execute_result",
          "data": {
            "text/plain": [
              "3500"
            ]
          },
          "metadata": {},
          "execution_count": 8
        }
      ]
    },
    {
      "cell_type": "code",
      "source": [
        "from keras.src.layers.serialization import activation\n",
        "from keras.src.layers.convolutional.conv2d_transpose import Conv2D\n",
        "# Architecture of Convolutional Neural Network\n",
        "\n",
        "model = tf.keras.models.Sequential([\n",
        "    tf.keras.layers.Conv2D(16,(3,3),padding='valid',activation='relu',input_shape=(28,28,1)),\n",
        "    tf.keras.layers.MaxPooling2D((2,2),strides=2),\n",
        "    tf.keras.layers.Conv2D(32,(2,2),activation='relu'),\n",
        "    tf.keras.layers.MaxPooling2D((2,2),strides=2),\n",
        "    tf.keras.layers.Conv2D(64,(3,3),activation='relu'),\n",
        "    tf.keras.layers.Flatten(),\n",
        "    tf.keras.layers.Dense(128,activation='relu'),\n",
        "    tf.keras.layers.Dropout(0.5),\n",
        "    tf.keras.layers.Dense(10,activation='sigmoid')\n",
        "])"
      ],
      "metadata": {
        "id": "7fc01IBcBBKy"
      },
      "execution_count": 9,
      "outputs": []
    },
    {
      "cell_type": "code",
      "source": [
        "model.compile(optimizer='rmsprop',\n",
        "             loss='sparse_categorical_crossentropy',\n",
        "              metrics=['accuracy'])"
      ],
      "metadata": {
        "id": "aNcDty_VFWOZ"
      },
      "execution_count": 10,
      "outputs": []
    },
    {
      "cell_type": "code",
      "source": [
        "model.summary()"
      ],
      "metadata": {
        "colab": {
          "base_uri": "https://localhost:8080/"
        },
        "id": "ynZPoxqnHlTH",
        "outputId": "dcdfb365-2d1d-46f1-d6e6-72ccab6de546"
      },
      "execution_count": 11,
      "outputs": [
        {
          "output_type": "stream",
          "name": "stdout",
          "text": [
            "Model: \"sequential\"\n",
            "_________________________________________________________________\n",
            " Layer (type)                Output Shape              Param #   \n",
            "=================================================================\n",
            " conv2d (Conv2D)             (None, 26, 26, 16)        160       \n",
            "                                                                 \n",
            " max_pooling2d (MaxPooling2  (None, 13, 13, 16)        0         \n",
            " D)                                                              \n",
            "                                                                 \n",
            " conv2d_1 (Conv2D)           (None, 12, 12, 32)        2080      \n",
            "                                                                 \n",
            " max_pooling2d_1 (MaxPoolin  (None, 6, 6, 32)          0         \n",
            " g2D)                                                            \n",
            "                                                                 \n",
            " conv2d_2 (Conv2D)           (None, 4, 4, 64)          18496     \n",
            "                                                                 \n",
            " flatten (Flatten)           (None, 1024)              0         \n",
            "                                                                 \n",
            " dense (Dense)               (None, 128)               131200    \n",
            "                                                                 \n",
            " dropout (Dropout)           (None, 128)               0         \n",
            "                                                                 \n",
            " dense_1 (Dense)             (None, 10)                1290      \n",
            "                                                                 \n",
            "=================================================================\n",
            "Total params: 153226 (598.54 KB)\n",
            "Trainable params: 153226 (598.54 KB)\n",
            "Non-trainable params: 0 (0.00 Byte)\n",
            "_________________________________________________________________\n"
          ]
        }
      ]
    },
    {
      "cell_type": "code",
      "source": [
        "model.fit(X_train, y_train, epochs=20, batch_size=64, validation_split=0.2)"
      ],
      "metadata": {
        "id": "gF_mal1uHtK8",
        "colab": {
          "base_uri": "https://localhost:8080/"
        },
        "outputId": "f091596f-1a6f-4f26-87b4-111da821d897"
      },
      "execution_count": 12,
      "outputs": [
        {
          "output_type": "stream",
          "name": "stdout",
          "text": [
            "Epoch 1/20\n",
            "44/44 [==============================] - 6s 21ms/step - loss: 1.2421 - accuracy: 0.5929 - val_loss: 0.4842 - val_accuracy: 0.8586\n",
            "Epoch 2/20\n",
            "44/44 [==============================] - 0s 8ms/step - loss: 0.5121 - accuracy: 0.8311 - val_loss: 0.2805 - val_accuracy: 0.9143\n",
            "Epoch 3/20\n",
            "44/44 [==============================] - 0s 7ms/step - loss: 0.3286 - accuracy: 0.8954 - val_loss: 0.2924 - val_accuracy: 0.8971\n",
            "Epoch 4/20\n",
            "44/44 [==============================] - 0s 7ms/step - loss: 0.2396 - accuracy: 0.9193 - val_loss: 0.1782 - val_accuracy: 0.9314\n",
            "Epoch 5/20\n",
            "44/44 [==============================] - 0s 8ms/step - loss: 0.2031 - accuracy: 0.9321 - val_loss: 0.1648 - val_accuracy: 0.9471\n",
            "Epoch 6/20\n",
            "44/44 [==============================] - 0s 5ms/step - loss: 0.1652 - accuracy: 0.9429 - val_loss: 0.1262 - val_accuracy: 0.9514\n",
            "Epoch 7/20\n",
            "44/44 [==============================] - 0s 5ms/step - loss: 0.1429 - accuracy: 0.9543 - val_loss: 0.1386 - val_accuracy: 0.9500\n",
            "Epoch 8/20\n",
            "44/44 [==============================] - 0s 5ms/step - loss: 0.1252 - accuracy: 0.9600 - val_loss: 0.1604 - val_accuracy: 0.9386\n",
            "Epoch 9/20\n",
            "44/44 [==============================] - 0s 6ms/step - loss: 0.1086 - accuracy: 0.9629 - val_loss: 0.1173 - val_accuracy: 0.9600\n",
            "Epoch 10/20\n",
            "44/44 [==============================] - 0s 5ms/step - loss: 0.1138 - accuracy: 0.9657 - val_loss: 0.0969 - val_accuracy: 0.9686\n",
            "Epoch 11/20\n",
            "44/44 [==============================] - 0s 6ms/step - loss: 0.1006 - accuracy: 0.9661 - val_loss: 0.1286 - val_accuracy: 0.9543\n",
            "Epoch 12/20\n",
            "44/44 [==============================] - 0s 5ms/step - loss: 0.0785 - accuracy: 0.9729 - val_loss: 0.1040 - val_accuracy: 0.9643\n",
            "Epoch 13/20\n",
            "44/44 [==============================] - 0s 6ms/step - loss: 0.0585 - accuracy: 0.9814 - val_loss: 0.1196 - val_accuracy: 0.9586\n",
            "Epoch 14/20\n",
            "44/44 [==============================] - 0s 5ms/step - loss: 0.0657 - accuracy: 0.9779 - val_loss: 0.0757 - val_accuracy: 0.9771\n",
            "Epoch 15/20\n",
            "44/44 [==============================] - 0s 6ms/step - loss: 0.0584 - accuracy: 0.9793 - val_loss: 0.0812 - val_accuracy: 0.9700\n",
            "Epoch 16/20\n",
            "44/44 [==============================] - 0s 6ms/step - loss: 0.0563 - accuracy: 0.9789 - val_loss: 0.0779 - val_accuracy: 0.9786\n",
            "Epoch 17/20\n",
            "44/44 [==============================] - 0s 5ms/step - loss: 0.0488 - accuracy: 0.9839 - val_loss: 0.0850 - val_accuracy: 0.9700\n",
            "Epoch 18/20\n",
            "44/44 [==============================] - 0s 6ms/step - loss: 0.0484 - accuracy: 0.9829 - val_loss: 0.0810 - val_accuracy: 0.9729\n",
            "Epoch 19/20\n",
            "44/44 [==============================] - 0s 5ms/step - loss: 0.0333 - accuracy: 0.9896 - val_loss: 0.0594 - val_accuracy: 0.9800\n",
            "Epoch 20/20\n",
            "44/44 [==============================] - 0s 5ms/step - loss: 0.0299 - accuracy: 0.9900 - val_loss: 0.0757 - val_accuracy: 0.9771\n"
          ]
        },
        {
          "output_type": "execute_result",
          "data": {
            "text/plain": [
              "<keras.src.callbacks.History at 0x7a4fc8fc1780>"
            ]
          },
          "metadata": {},
          "execution_count": 12
        }
      ]
    },
    {
      "cell_type": "markdown",
      "source": [
        "\n",
        "\n",
        "#### *I wanna sure that the model works in a true way*\n",
        "\n",
        "\n"
      ],
      "metadata": {
        "id": "9Ubm_n-zaXG9"
      }
    },
    {
      "cell_type": "code",
      "source": [
        "y_test[9]"
      ],
      "metadata": {
        "colab": {
          "base_uri": "https://localhost:8080/"
        },
        "id": "fAMQesdUkEOv",
        "outputId": "50bbffbb-4d74-48ae-dfcf-94a01015eb34"
      },
      "execution_count": 13,
      "outputs": [
        {
          "output_type": "execute_result",
          "data": {
            "text/plain": [
              "3"
            ]
          },
          "metadata": {},
          "execution_count": 13
        }
      ]
    },
    {
      "cell_type": "code",
      "source": [
        "test_sample = X_test[9].reshape(1,28,28)"
      ],
      "metadata": {
        "id": "VSysKorPkcUj"
      },
      "execution_count": 17,
      "outputs": []
    },
    {
      "cell_type": "code",
      "source": [
        "model.predict(test_sample).argmax()"
      ],
      "metadata": {
        "colab": {
          "base_uri": "https://localhost:8080/"
        },
        "id": "J4Pe4VEkkMj6",
        "outputId": "029e4db5-08e4-48e0-abb9-40393c237b6e"
      },
      "execution_count": 19,
      "outputs": [
        {
          "output_type": "stream",
          "name": "stdout",
          "text": [
            "1/1 [==============================] - 0s 17ms/step\n"
          ]
        },
        {
          "output_type": "execute_result",
          "data": {
            "text/plain": [
              "3"
            ]
          },
          "metadata": {},
          "execution_count": 19
        }
      ]
    },
    {
      "cell_type": "markdown",
      "source": [
        "Model Evaluation with test Dataset"
      ],
      "metadata": {
        "id": "1_fGskqmkTJd"
      }
    },
    {
      "cell_type": "code",
      "source": [
        "model.evaluate(X_test,y_test,verbose=2)"
      ],
      "metadata": {
        "colab": {
          "base_uri": "https://localhost:8080/"
        },
        "id": "UMNKZmHzkuqB",
        "outputId": "9b5e03f1-e091-4b79-c09d-ec6d58429f8c"
      },
      "execution_count": 21,
      "outputs": [
        {
          "output_type": "stream",
          "name": "stdout",
          "text": [
            "13/13 - 0s - loss: 0.0644 - accuracy: 0.9875 - 260ms/epoch - 20ms/step\n"
          ]
        },
        {
          "output_type": "execute_result",
          "data": {
            "text/plain": [
              "[0.06444048136472702, 0.987500011920929]"
            ]
          },
          "metadata": {},
          "execution_count": 21
        }
      ]
    }
  ]
}
