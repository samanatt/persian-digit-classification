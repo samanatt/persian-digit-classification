{
  "nbformat": 4,
  "nbformat_minor": 0,
  "metadata": {
    "colab": {
      "provenance": [],
      "gpuType": "T4",
      "authorship_tag": "ABX9TyNRKheVK+umyanCg1qqEsde",
      "include_colab_link": true
    },
    "kernelspec": {
      "name": "python3",
      "display_name": "Python 3"
    },
    "language_info": {
      "name": "python"
    },
    "accelerator": "GPU"
  },
  "cells": [
    {
      "cell_type": "markdown",
      "metadata": {
        "id": "view-in-github",
        "colab_type": "text"
      },
      "source": [
        "<a href=\"https://colab.research.google.com/github/samanatt/persian-digit-classification-with-knn/blob/main/First_MLP_Pro.ipynb\" target=\"_parent\"><img src=\"https://colab.research.google.com/assets/colab-badge.svg\" alt=\"Open In Colab\"/></a>"
      ]
    },
    {
      "cell_type": "markdown",
      "source": [
        "# **tensorflow2(keras + Tensorflow) to build a MLP Arch to predict Persain digits**\n"
      ],
      "metadata": {
        "id": "lhg3HbqhN-cP"
      }
    },
    {
      "cell_type": "code",
      "execution_count": 61,
      "metadata": {
        "id": "0Z4no-AdMCDD"
      },
      "outputs": [],
      "source": [
        "#!mkdir dataset\n",
        "#!wget https://github.com/samanatt/persian-digit-classification-with-knn/raw/main/dataset/Data_hoda_full.mat -P dataset\n",
        "#!wget https://raw.githubusercontent.com/samanatt/persian-digit-classification-with-knn/main/NewDataset.py"
      ]
    },
    {
      "cell_type": "code",
      "source": [
        "from tensorflow import keras\n",
        "import tensorflow as tf\n",
        "\n",
        "from keras.layers import Dense\n",
        "from keras.models import Sequential\n",
        "\n",
        "import numpy as np\n",
        "import scipy as sp\n",
        "\n",
        "from NewDataset import load_hoda"
      ],
      "metadata": {
        "id": "yQbL8h5OMbFA"
      },
      "execution_count": 62,
      "outputs": []
    },
    {
      "cell_type": "code",
      "source": [
        "x_train_org,y_train_org, x_test_org,y_test_org = load_hoda()"
      ],
      "metadata": {
        "id": "AVYeB1FiP_Zg"
      },
      "execution_count": 63,
      "outputs": []
    },
    {
      "cell_type": "code",
      "source": [
        "x_train_org.shape\n",
        "#x_train_org[0]"
      ],
      "metadata": {
        "colab": {
          "base_uri": "https://localhost:8080/"
        },
        "id": "h2h8jRq8-LAh",
        "outputId": "e6a6c869-740b-4b3b-921e-25fbb3971995"
      },
      "execution_count": 64,
      "outputs": [
        {
          "output_type": "execute_result",
          "data": {
            "text/plain": [
              "(1000, 784)"
            ]
          },
          "metadata": {},
          "execution_count": 64
        }
      ]
    },
    {
      "cell_type": "code",
      "source": [
        "type(x_test_org)"
      ],
      "metadata": {
        "colab": {
          "base_uri": "https://localhost:8080/"
        },
        "id": "1f3mU8gaLk3c",
        "outputId": "2305b4e8-ff23-4e26-b398-6a7d12fa10b6"
      },
      "execution_count": 65,
      "outputs": [
        {
          "output_type": "execute_result",
          "data": {
            "text/plain": [
              "numpy.ndarray"
            ]
          },
          "metadata": {},
          "execution_count": 65
        }
      ]
    },
    {
      "cell_type": "code",
      "source": [
        "y_train_org.shape\n",
        "#y_train_org[45]"
      ],
      "metadata": {
        "colab": {
          "base_uri": "https://localhost:8080/"
        },
        "id": "28IG_XWkidxQ",
        "outputId": "dc1b0d3a-19d5-4669-c46d-f96b0ca29e52"
      },
      "execution_count": 66,
      "outputs": [
        {
          "output_type": "execute_result",
          "data": {
            "text/plain": [
              "(1000,)"
            ]
          },
          "metadata": {},
          "execution_count": 66
        }
      ]
    },
    {
      "cell_type": "code",
      "source": [
        "y_train =keras.utils.to_categorical(y_train_org,num_classes=10)\n",
        "y_test =keras.utils.to_categorical(y_test_org,num_classes=10)"
      ],
      "metadata": {
        "id": "RImKET0goVYN"
      },
      "execution_count": 67,
      "outputs": []
    },
    {
      "cell_type": "code",
      "source": [
        "x_train = x_train_org.astype('float32')\n",
        "x_test = x_test_org.astype('float32')\n",
        "x_train /= 255\n",
        "x_test /= 255"
      ],
      "metadata": {
        "id": "px5d-qoVSACQ"
      },
      "execution_count": 68,
      "outputs": []
    },
    {
      "cell_type": "code",
      "source": [
        "#model = Sequential()\n",
        "#model.add(Dense(64,activation='relu',input_dim=x_train.shape[-1]))\n",
        "#model.add(Dense(10,activation='softmax'))"
      ],
      "metadata": {
        "id": "Q2QXdlqcjYY_"
      },
      "execution_count": 69,
      "outputs": []
    },
    {
      "cell_type": "code",
      "source": [
        "model = tf.keras.models.Sequential(\n",
        "    [\n",
        "        tf.keras.layers.Dense(64,activation='relu',input_dim=x_train.shape[-1]),\n",
        "        tf.keras.layers.Dropout(0.2),\n",
        "        tf.keras.layers.Dense(32,activation='relu'),\n",
        "        tf.keras.layers.Dropout(0.2),\n",
        "        tf.keras.layers.Dense(10,activation='sigmoid')\n",
        "    ])"
      ],
      "metadata": {
        "id": "J9yA2xFa6pwh"
      },
      "execution_count": 70,
      "outputs": []
    },
    {
      "cell_type": "code",
      "source": [
        "model.summary()"
      ],
      "metadata": {
        "colab": {
          "base_uri": "https://localhost:8080/"
        },
        "id": "4y8kbyEWlx-P",
        "outputId": "112906ed-3d7d-4ffa-8c83-9b5b0883703c"
      },
      "execution_count": 71,
      "outputs": [
        {
          "output_type": "stream",
          "name": "stdout",
          "text": [
            "Model: \"sequential_2\"\n",
            "_________________________________________________________________\n",
            " Layer (type)                Output Shape              Param #   \n",
            "=================================================================\n",
            " dense_6 (Dense)             (None, 64)                50240     \n",
            "                                                                 \n",
            " dropout_4 (Dropout)         (None, 64)                0         \n",
            "                                                                 \n",
            " dense_7 (Dense)             (None, 32)                2080      \n",
            "                                                                 \n",
            " dropout_5 (Dropout)         (None, 32)                0         \n",
            "                                                                 \n",
            " dense_8 (Dense)             (None, 10)                330       \n",
            "                                                                 \n",
            "=================================================================\n",
            "Total params: 52650 (205.66 KB)\n",
            "Trainable params: 52650 (205.66 KB)\n",
            "Non-trainable params: 0 (0.00 Byte)\n",
            "_________________________________________________________________\n"
          ]
        }
      ]
    },
    {
      "cell_type": "code",
      "source": [
        "model.compile(optimizer='rmsprop',\n",
        "              loss='categorical_crossentropy',\n",
        "              metrics='accuracy')"
      ],
      "metadata": {
        "id": "aQJBtkU1l1DH"
      },
      "execution_count": 72,
      "outputs": []
    },
    {
      "cell_type": "code",
      "source": [
        "model_mlp = model.fit(x_train, y_train,epochs = 20, batch_size = 64,\n",
        "              validation_split=0.2)"
      ],
      "metadata": {
        "colab": {
          "base_uri": "https://localhost:8080/"
        },
        "id": "uCw-2TOKmfsf",
        "outputId": "e7697c9a-468d-460b-80dc-388f0294c8d6"
      },
      "execution_count": 73,
      "outputs": [
        {
          "output_type": "stream",
          "name": "stdout",
          "text": [
            "Epoch 1/20\n",
            "13/13 [==============================] - 1s 18ms/step - loss: 1.7822 - accuracy: 0.3925 - val_loss: 1.0567 - val_accuracy: 0.7350\n",
            "Epoch 2/20\n",
            "13/13 [==============================] - 0s 6ms/step - loss: 1.0942 - accuracy: 0.6488 - val_loss: 0.6935 - val_accuracy: 0.8250\n",
            "Epoch 3/20\n",
            "13/13 [==============================] - 0s 6ms/step - loss: 0.8234 - accuracy: 0.7538 - val_loss: 0.5581 - val_accuracy: 0.8700\n",
            "Epoch 4/20\n",
            "13/13 [==============================] - 0s 6ms/step - loss: 0.6385 - accuracy: 0.8050 - val_loss: 0.5394 - val_accuracy: 0.8500\n",
            "Epoch 5/20\n",
            "13/13 [==============================] - 0s 7ms/step - loss: 0.5824 - accuracy: 0.8375 - val_loss: 0.3785 - val_accuracy: 0.8950\n",
            "Epoch 6/20\n",
            "13/13 [==============================] - 0s 7ms/step - loss: 0.5327 - accuracy: 0.8375 - val_loss: 0.3733 - val_accuracy: 0.9000\n",
            "Epoch 7/20\n",
            "13/13 [==============================] - 0s 7ms/step - loss: 0.4450 - accuracy: 0.8487 - val_loss: 0.3199 - val_accuracy: 0.9000\n",
            "Epoch 8/20\n",
            "13/13 [==============================] - 0s 6ms/step - loss: 0.4071 - accuracy: 0.8687 - val_loss: 0.2911 - val_accuracy: 0.9200\n",
            "Epoch 9/20\n",
            "13/13 [==============================] - 0s 7ms/step - loss: 0.3396 - accuracy: 0.8963 - val_loss: 0.2825 - val_accuracy: 0.9150\n",
            "Epoch 10/20\n",
            "13/13 [==============================] - 0s 6ms/step - loss: 0.3034 - accuracy: 0.9100 - val_loss: 0.2683 - val_accuracy: 0.9300\n",
            "Epoch 11/20\n",
            "13/13 [==============================] - 0s 6ms/step - loss: 0.2821 - accuracy: 0.9100 - val_loss: 0.3013 - val_accuracy: 0.9150\n",
            "Epoch 12/20\n",
            "13/13 [==============================] - 0s 6ms/step - loss: 0.2331 - accuracy: 0.9350 - val_loss: 0.2452 - val_accuracy: 0.9250\n",
            "Epoch 13/20\n",
            "13/13 [==============================] - 0s 7ms/step - loss: 0.2056 - accuracy: 0.9425 - val_loss: 0.3197 - val_accuracy: 0.9000\n",
            "Epoch 14/20\n",
            "13/13 [==============================] - 0s 6ms/step - loss: 0.2193 - accuracy: 0.9250 - val_loss: 0.2324 - val_accuracy: 0.9200\n",
            "Epoch 15/20\n",
            "13/13 [==============================] - 0s 7ms/step - loss: 0.1867 - accuracy: 0.9450 - val_loss: 0.2375 - val_accuracy: 0.9200\n",
            "Epoch 16/20\n",
            "13/13 [==============================] - 0s 7ms/step - loss: 0.2202 - accuracy: 0.9325 - val_loss: 0.2703 - val_accuracy: 0.9250\n",
            "Epoch 17/20\n",
            "13/13 [==============================] - 0s 7ms/step - loss: 0.1647 - accuracy: 0.9538 - val_loss: 0.2362 - val_accuracy: 0.9400\n",
            "Epoch 18/20\n",
            "13/13 [==============================] - 0s 6ms/step - loss: 0.1458 - accuracy: 0.9513 - val_loss: 0.2406 - val_accuracy: 0.9350\n",
            "Epoch 19/20\n",
            "13/13 [==============================] - 0s 8ms/step - loss: 0.1459 - accuracy: 0.9588 - val_loss: 0.2990 - val_accuracy: 0.9050\n",
            "Epoch 20/20\n",
            "13/13 [==============================] - 0s 6ms/step - loss: 0.1526 - accuracy: 0.9538 - val_loss: 0.2420 - val_accuracy: 0.9400\n"
          ]
        }
      ]
    },
    {
      "cell_type": "code",
      "source": [
        "model.evaluate(x_test,y_test,verbose=2)"
      ],
      "metadata": {
        "id": "-5VGZ1r9m7qO",
        "colab": {
          "base_uri": "https://localhost:8080/"
        },
        "outputId": "981072bd-932e-4f8f-c3c0-3a741830d230"
      },
      "execution_count": 74,
      "outputs": [
        {
          "output_type": "stream",
          "name": "stdout",
          "text": [
            "7/7 - 0s - loss: 0.1394 - accuracy: 0.9600 - 36ms/epoch - 5ms/step\n"
          ]
        },
        {
          "output_type": "execute_result",
          "data": {
            "text/plain": [
              "[0.13937005400657654, 0.9599999785423279]"
            ]
          },
          "metadata": {},
          "execution_count": 74
        }
      ]
    },
    {
      "cell_type": "code",
      "source": [
        "x_test[5].shape"
      ],
      "metadata": {
        "colab": {
          "base_uri": "https://localhost:8080/"
        },
        "id": "B_T7f_xSZKuf",
        "outputId": "69ad1c42-dc85-438d-e799-268bce787177"
      },
      "execution_count": 75,
      "outputs": [
        {
          "output_type": "execute_result",
          "data": {
            "text/plain": [
              "(784,)"
            ]
          },
          "metadata": {},
          "execution_count": 75
        }
      ]
    },
    {
      "cell_type": "code",
      "source": [
        "type(x_test[5])"
      ],
      "metadata": {
        "colab": {
          "base_uri": "https://localhost:8080/"
        },
        "id": "BHQj4ey4c_aC",
        "outputId": "499d83a0-c1f9-4f74-f20c-b173a79a8533"
      },
      "execution_count": 76,
      "outputs": [
        {
          "output_type": "execute_result",
          "data": {
            "text/plain": [
              "numpy.ndarray"
            ]
          },
          "metadata": {},
          "execution_count": 76
        }
      ]
    },
    {
      "cell_type": "code",
      "source": [
        "predicted = model.predict(x_test)"
      ],
      "metadata": {
        "colab": {
          "base_uri": "https://localhost:8080/"
        },
        "id": "3MrdMBtxZS3d",
        "outputId": "e2f0110d-7e63-4d2f-de7c-3574b3ada8a2"
      },
      "execution_count": 77,
      "outputs": [
        {
          "output_type": "stream",
          "name": "stdout",
          "text": [
            "7/7 [==============================] - 0s 2ms/step\n"
          ]
        }
      ]
    },
    {
      "cell_type": "code",
      "source": [
        "predicted_classes = np.argmax(predicted, axis=1)"
      ],
      "metadata": {
        "id": "u9oN242CZnnv"
      },
      "execution_count": 78,
      "outputs": []
    },
    {
      "cell_type": "code",
      "source": [
        "print(\"predicted:\")\n",
        "print(predicted_classes)\n",
        "print(\"True Label:\")\n",
        "print(y_test_org)"
      ],
      "metadata": {
        "colab": {
          "base_uri": "https://localhost:8080/"
        },
        "id": "wPujiwOaea2t",
        "outputId": "2dd5a49d-c8dd-43e6-ee1d-2111ee99e184"
      },
      "execution_count": 79,
      "outputs": [
        {
          "output_type": "stream",
          "name": "stdout",
          "text": [
            "predicted:\n",
            "[7 2 3 1 5 5 4 7 3 2 0 8 8 0 2 9 3 6 7 4 0 3 6 3 9 2 7 5 2 9 7 5 5 8 9 6 5\n",
            " 1 4 8 8 4 7 7 1 2 7 9 0 3 7 4 7 5 2 8 8 2 9 8 8 6 6 6 6 6 2 4 2 4 4 5 9 1\n",
            " 8 4 0 5 6 2 4 3 2 7 7 7 7 1 8 1 7 8 7 7 8 9 4 2 3 1 0 2 9 6 3 5 5 0 0 3 6\n",
            " 7 9 3 9 9 8 7 9 2 5 2 0 5 9 6 9 2 0 3 7 6 5 2 9 0 4 1 8 2 2 3 5 2 9 3 8 6\n",
            " 7 0 9 9 0 7 6 5 4 7 9 3 7 0 7 1 9 4 7 3 4 1 5 6 7 9 1 3 5 3 5 7 4 1 3 3 1\n",
            " 1 3 3 8 9 6 7 7 2 3 0 1 4 9 5]\n",
            "True Label:\n",
            "[7 2 3 1 5 5 4 7 3 2 0 8 8 0 2 9 3 6 7 4 0 3 6 3 9 2 7 5 2 9 7 5 5 8 9 6 5\n",
            " 1 4 8 8 4 7 7 1 2 7 9 0 3 7 4 7 5 2 9 8 2 9 8 8 6 6 6 6 6 2 4 3 4 4 5 9 1\n",
            " 8 2 0 5 6 2 4 3 2 7 7 7 7 1 8 1 7 8 7 7 8 9 3 2 3 1 0 2 9 6 3 5 5 0 0 3 6\n",
            " 7 9 3 9 9 8 7 9 2 5 2 5 5 9 6 9 2 0 3 7 6 5 2 9 0 4 1 8 2 2 3 0 2 9 3 8 6\n",
            " 7 0 9 9 0 7 6 5 4 7 9 3 7 0 7 1 9 4 7 3 4 1 5 6 7 9 1 3 5 4 5 7 4 1 3 3 1\n",
            " 2 3 3 8 9 6 7 7 2 3 0 1 4 9 5]\n"
          ]
        }
      ]
    },
    {
      "cell_type": "code",
      "source": [
        "\n",
        "import matplotlib.pyplot as plt\n",
        "\n",
        "from sklearn.metrics import confusion_matrix\n",
        "plt.matshow(confusion_matrix(y_test_org, predicted_classes), cmap=\"Purples\")\n",
        "plt.xticks(range(10))\n",
        "plt.yticks(range(10))\n",
        "plt.xlabel(\"Predicted label\")\n",
        "plt.ylabel(\"True label\");\n",
        "\n"
      ],
      "metadata": {
        "colab": {
          "base_uri": "https://localhost:8080/",
          "height": 457
        },
        "id": "kGGJCvE-egsz",
        "outputId": "b2f92960-56b2-4660-c8d6-d0c1ad242f75"
      },
      "execution_count": 80,
      "outputs": [
        {
          "output_type": "display_data",
          "data": {
            "text/plain": [
              "<Figure size 480x480 with 1 Axes>"
            ],
            "image/png": "[encoded data removed]"
          },
          "metadata": {}
        }
      ]
    },
    {
      "cell_type": "code",
      "source": [
        "model_mlp.history.keys()"
      ],
      "metadata": {
        "colab": {
          "base_uri": "https://localhost:8080/"
        },
        "id": "5bY8e5-ZgJXv",
        "outputId": "b0ac517f-9815-4a29-d65b-46150b90ef57"
      },
      "execution_count": 81,
      "outputs": [
        {
          "output_type": "execute_result",
          "data": {
            "text/plain": [
              "dict_keys(['loss', 'accuracy', 'val_loss', 'val_accuracy'])"
            ]
          },
          "metadata": {},
          "execution_count": 81
        }
      ]
    },
    {
      "cell_type": "code",
      "source": [
        "plt.plot(model_mlp.history['loss'])\n",
        "plt.plot(model_mlp.history['val_loss'])\n",
        "plt.legend(['Train', 'Validation'])"
      ],
      "metadata": {
        "colab": {
          "base_uri": "https://localhost:8080/",
          "height": 447
        },
        "id": "BjDoUDMIe6jf",
        "outputId": "647c779c-1f1c-47c8-e192-168ed2ab1097"
      },
      "execution_count": 82,
      "outputs": [
        {
          "output_type": "execute_result",
          "data": {
            "text/plain": [
              "<matplotlib.legend.Legend at 0x7f9048688d60>"
            ]
          },
          "metadata": {},
          "execution_count": 82
        },
        {
          "output_type": "display_data",
          "data": {
            "text/plain": [
              "<Figure size 640x480 with 1 Axes>"
            ],
            "image/png": "[encoded data removed]"
          },
          "metadata": {}
        }
      ]
    },
    {
      "cell_type": "code",
      "source": [
        "plt.plot(model_mlp.history['accuracy'])\n",
        "plt.plot(model_mlp.history['val_accuracy'])\n",
        "plt.legend(['train', 'Validation'])"
      ],
      "metadata": {
        "colab": {
          "base_uri": "https://localhost:8080/",
          "height": 447
        },
        "id": "_Vut45cNfiFh",
        "outputId": "2a5b475f-4621-4605-f196-78c410b3cdb4"
      },
      "execution_count": 83,
      "outputs": [
        {
          "output_type": "execute_result",
          "data": {
            "text/plain": [
              "<matplotlib.legend.Legend at 0x7f9053036470>"
            ]
          },
          "metadata": {},
          "execution_count": 83
        },
        {
          "output_type": "display_data",
          "data": {
            "text/plain": [
              "<Figure size 640x480 with 1 Axes>"
            ],
            "image/png": "[encoded data removed]"
          },
          "metadata": {}
        }
      ]
    },
    {
      "cell_type": "code",
      "source": [],
      "metadata": {
        "id": "9xI_vnzdjFnW"
      },
      "execution_count": 83,
      "outputs": []
    }
  ]
}